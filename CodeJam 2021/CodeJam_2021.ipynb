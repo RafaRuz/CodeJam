{
 "cells": [
  {
   "cell_type": "code",
   "execution_count": 2,
   "metadata": {},
   "outputs": [],
   "source": [
    "import numpy as np\n",
    "import io"
   ]
  },
  {
   "cell_type": "markdown",
   "metadata": {},
   "source": [
    "# Problema 1"
   ]
  },
  {
   "cell_type": "code",
   "execution_count": null,
   "metadata": {},
   "outputs": [],
   "source": [
    "input_string = \"\"\"5\n",
    "4\n",
    "4 2 1 3\n",
    "2\n",
    "1 2\n",
    "7\n",
    "7 6 5 4 3 2 1\n",
    "\"\"\""
   ]
  },
  {
   "cell_type": "code",
   "execution_count": null,
   "metadata": {},
   "outputs": [],
   "source": [
    "f = io.StringIO(input_string)\n",
    "\n",
    "T = int(f.readline())\n",
    "\n",
    "for case in range(1, T+1):\n",
    "    N = int(f.readline())\n",
    "    L = [int(x) for x in f.readline().split(' ')]\n",
    "    \n",
    "    print('Lista inicial: {}'.format(L))\n",
    "    \n",
    "    cost = 0\n",
    "    \n",
    "    while L:\n",
    "        print(L)\n",
    "        \n",
    "        minimum = min(L)\n",
    "        min_index = L.index(minimum)\n",
    "        \n",
    "        print('Min position: {}\\telement: {}'.format(min_index, minimum))\n",
    "        \n",
    "        L[:min_index+1] = L[:min_index+1][::-1]\n",
    "        \n",
    "        L.pop(0)\n",
    "        \n",
    "        print('New list: {}'.format(L))\n",
    "        \n",
    "        cost += min_index+1\n",
    "        \n",
    "    cost -= 1\n",
    "    \n",
    "    print('Case #{}: {}'.format(case, cost))"
   ]
  },
  {
   "cell_type": "markdown",
   "metadata": {},
   "source": [
    "### Submission"
   ]
  },
  {
   "cell_type": "code",
   "execution_count": null,
   "metadata": {},
   "outputs": [],
   "source": [
    "T = int(input())\n",
    "\n",
    "for case in range(1, T+1):\n",
    "    N = int(input())\n",
    "    L = [int(x) for x in input().split(' ')]\n",
    "        \n",
    "    cost = 0\n",
    "    \n",
    "    for i in range(N-1):\n",
    "        minimum = min(L)\n",
    "        min_index = L.index(minimum)        \n",
    "        L[:min_index+1] = L[:min_index+1][::-1]\n",
    "        L.pop(0)\n",
    "                \n",
    "        cost += min_index+1\n",
    "    \n",
    "    print('Case #{}: {}'.format(case, cost))"
   ]
  },
  {
   "cell_type": "markdown",
   "metadata": {},
   "source": [
    "# Problema 2"
   ]
  },
  {
   "cell_type": "code",
   "execution_count": 35,
   "metadata": {},
   "outputs": [],
   "source": [
    "input_string = \"\"\"4\n",
    "2 3 CJ?CC?\n",
    "4 2 CJCJ\n",
    "1 3 C?J\n",
    "2 5 ??J???\n",
    "\"\"\""
   ]
  },
  {
   "cell_type": "code",
   "execution_count": 42,
   "metadata": {},
   "outputs": [
    {
     "name": "stdout",
     "output_type": "stream",
     "text": [
      "\n",
      "\n",
      "2 3 ['C', 'J', '?', 'C', 'C', '?']\n",
      "ini:J\tfin:C\tX:2\tY:3\tn:1\t\n",
      "3\n",
      "ini:C\tfin:None\tX:2\tY:3\tn:1\t\n",
      "0\n",
      "Case #1: 5\n",
      "\n",
      "\n",
      "4 2 ['C', 'J', 'C', 'J']\n",
      "Case #2: 10\n",
      "\n",
      "\n",
      "1 3 ['C', '?', 'J']\n",
      "ini:C\tfin:J\tX:1\tY:3\tn:1\t\n",
      "1\n",
      "Case #3: 1\n",
      "\n",
      "\n",
      "2 5 ['?', '?', 'J', '?', '?', '?']\n",
      "ini:None\tfin:J\tX:2\tY:5\tn:1\t\n",
      "0\n",
      "ini:J\tfin:None\tX:2\tY:5\tn:3\t\n",
      "0\n",
      "Case #4: 0\n"
     ]
    }
   ],
   "source": [
    "f = io.StringIO(input_string)\n",
    "\n",
    "T = int(f.readline())\n",
    "\n",
    "def mark_sequence_minimum_cost(ini, fin, X, Y, n):\n",
    "    print('ini:{}\\tfin:{}\\tX:{}\\tY:{}\\tn:{}\\t'.format(ini, fin, X, Y, n))\n",
    "        \n",
    "    if (ini == None and fin == 'C') or (fin == None and ini == 'J'):\n",
    "        cost = min((n//2)*X + (n//2+n%2)*Y, Y, 0)\n",
    "    elif (ini == None and fin == 'J') or (fin == None and ini == 'C'):\n",
    "        cost = min((n//2+n%2)*X + (n//2)*Y, X, 0)\n",
    "    elif ini == fin:\n",
    "        cost = min((n//2+n%2)*(X+Y), 0)\n",
    "    elif ini == 'C':\n",
    "        cost = min((n//2+1)*X + (n//2)*Y, X)\n",
    "    else: #ini == 'J'\n",
    "        cost = min((n//2)*X + (n//2+1)*Y, Y)\n",
    "            \n",
    "    print(cost)\n",
    "    return cost\n",
    "\n",
    "\n",
    "\n",
    "for case in range(1, T+1):\n",
    "    line = f.readline().split(' ')\n",
    "    X, Y, mural = [int(line[0]), int(line[1]), list(line[2].rstrip())]\n",
    "    print('\\n')\n",
    "    print(X, Y, mural)\n",
    "    \n",
    "    cost = 0\n",
    "    last_non_mark = None\n",
    "    next_non_mark = None\n",
    "    last_non_mark_pos = 0\n",
    "    next_non_mark_pos = 0\n",
    "    i = 0\n",
    "    \n",
    "    while i < len(mural):\n",
    "        if mural[i] == '?':\n",
    "            j = i+1\n",
    "            while j < len(mural) and mural[j] == '?':\n",
    "                j += 1\n",
    "                \n",
    "            next_non_mark_pos = j\n",
    "            next_non_mark = None if j == len(mural) else mural[j]\n",
    "            length_marks = next_non_mark_pos - last_non_mark_pos-1\n",
    "            \n",
    "            cost += mark_sequence_minimum_cost(last_non_mark, next_non_mark, X, Y, length_marks)\n",
    "            \n",
    "            last_non_mark = None if j == len(mural) else mural[j]\n",
    "            last_non_mark_pos = j\n",
    "            i = j+1\n",
    "        else:\n",
    "            if last_non_mark == 'C' and mural[i] == 'J':\n",
    "                cost += X\n",
    "            if last_non_mark == 'J' and mural[i] == 'C':\n",
    "                cost += Y\n",
    "                \n",
    "            last_non_mark = mural[i]\n",
    "            last_non_mark_pos = i\n",
    "            i += 1\n",
    "            \n",
    "    print('Case #{}: {}'.format(case, cost))  "
   ]
  },
  {
   "cell_type": "markdown",
   "metadata": {},
   "source": [
    "### Submission"
   ]
  },
  {
   "cell_type": "code",
   "execution_count": null,
   "metadata": {},
   "outputs": [],
   "source": [
    "def mark_sequence_minimum_cost(ini, fin, X, Y, n):        \n",
    "    if (ini == None and fin == 'C') or (fin == None and ini == 'J'):\n",
    "        cost = min((n//2)*X + (n//2+n%2)*Y, Y, 0)\n",
    "    elif (ini == None and fin == 'J') or (fin == None and ini == 'C'):\n",
    "        cost = min((n//2+n%2)*X + (n//2)*Y, X, 0)\n",
    "    elif ini == fin:\n",
    "        cost = min((n//2+n%2)*(X+Y), 0)\n",
    "    elif ini == 'C':\n",
    "        cost = min((n//2+1)*X + (n//2)*Y, X)\n",
    "    else: #ini == 'J'\n",
    "        cost = min((n//2)*X + (n//2+1)*Y, Y)\n",
    "            \n",
    "    return cost\n",
    "\n",
    "\n",
    "T = int(input())\n",
    "\n",
    "for case in range(1, T+1):\n",
    "    line = input().split(' ')\n",
    "    X, Y, mural = [int(line[0]), int(line[1]), list(line[2].rstrip())]\n",
    "    \n",
    "    cost = 0\n",
    "    last_non_mark = None\n",
    "    next_non_mark = None\n",
    "    last_non_mark_pos = 0\n",
    "    next_non_mark_pos = 0\n",
    "    i = 0\n",
    "    \n",
    "    while i < len(mural):\n",
    "        if mural[i] == '?':\n",
    "            j = i+1\n",
    "            while j < len(mural) and mural[j] == '?':\n",
    "                j += 1\n",
    "                \n",
    "            next_non_mark_pos = j\n",
    "            next_non_mark = None if j == len(mural) else mural[j]\n",
    "            length_marks = next_non_mark_pos - last_non_mark_pos-1\n",
    "            \n",
    "            cost += mark_sequence_minimum_cost(last_non_mark, next_non_mark, X, Y, length_marks)\n",
    "            \n",
    "            last_non_mark = None if j == len(mural) else mural[j]\n",
    "            last_non_mark_pos = j\n",
    "            i = j+1\n",
    "        else:\n",
    "            if last_non_mark == 'C' and mural[i] == 'J':\n",
    "                cost += X\n",
    "            if last_non_mark == 'J' and mural[i] == 'C':\n",
    "                cost += Y\n",
    "                \n",
    "            last_non_mark = mural[i]\n",
    "            last_non_mark_pos = i\n",
    "            i += 1\n",
    "            \n",
    "    print('Case #{}: {}'.format(case, cost))  "
   ]
  },
  {
   "cell_type": "markdown",
   "metadata": {},
   "source": [
    "# Problema 3"
   ]
  },
  {
   "cell_type": "code",
   "execution_count": 73,
   "metadata": {},
   "outputs": [],
   "source": [
    "input_string = \"\"\"5\n",
    "4 6\n",
    "2 1\n",
    "7 12\n",
    "7 2\n",
    "2 1000\n",
    "\"\"\""
   ]
  },
  {
   "cell_type": "code",
   "execution_count": 89,
   "metadata": {},
   "outputs": [],
   "source": [
    "input_string = \"\"\"1\n",
    "4 9\n",
    "\"\"\""
   ]
  },
  {
   "cell_type": "code",
   "execution_count": 90,
   "metadata": {
    "scrolled": true
   },
   "outputs": [
    {
     "name": "stdout",
     "output_type": "stream",
     "text": [
      "movements: [1, 1, 1, 0]\n",
      "Case #1: 2 4 3 1\n"
     ]
    }
   ],
   "source": [
    "f = io.StringIO(input_string)\n",
    "\n",
    "T = int(f.readline())\n",
    "\n",
    "\n",
    "for case in range(1, T+1):\n",
    "    N, C = [int(x) for x in f.readline().split(' ')]\n",
    "    N_orig = N\n",
    "\n",
    "    if C > (N*(N+1)/2-1) or C < N-1:\n",
    "        print('Case #{}: {}'.format(case, \"IMPOSSIBLE\"))\n",
    "        \n",
    "    else:\n",
    "        l = [None]*N_orig\n",
    "        movements = []\n",
    "        \n",
    "        while N > 1:\n",
    "            if C-N >= N-2:\n",
    "                movements.append(1)\n",
    "                C -= N\n",
    "            else:\n",
    "                movements.append(0)\n",
    "                C -= 1\n",
    "                \n",
    "            N -= 1\n",
    "            \n",
    "        movements.append(0)\n",
    "        \n",
    "        print('movements: {}'.format(movements))\n",
    "    \n",
    "        # list reconstruction\n",
    "        i = 0\n",
    "        j = N_orig-1\n",
    "        step = 1\n",
    "        for k, m in enumerate(movements):\n",
    "            if m == 1:\n",
    "                i, j = j, i\n",
    "                step *= -1\n",
    "                \n",
    "            l[i] = k+1\n",
    "            i += step\n",
    "        \n",
    "        print('Case #{}: {}'.format(case, ' '.join(map(str,l))))  "
   ]
  },
  {
   "cell_type": "markdown",
   "metadata": {},
   "source": [
    "### Submission"
   ]
  },
  {
   "cell_type": "code",
   "execution_count": null,
   "metadata": {},
   "outputs": [],
   "source": [
    "T = int(input())\n",
    "\n",
    "for case in range(1, T+1):\n",
    "    N, C = [int(x) for x in input().split(' ')]\n",
    "    N_orig = N\n",
    "\n",
    "    if C > (N*(N+1)/2-1) or C < N-1:\n",
    "        print('Case #{}: {}'.format(case, \"IMPOSSIBLE\"))\n",
    "        \n",
    "    else:\n",
    "        l = [None]*N_orig\n",
    "        movements = []\n",
    "        \n",
    "        while N > 1:\n",
    "            if C-N >= N-2:\n",
    "                movements.append(1)\n",
    "                C -= N\n",
    "            else:\n",
    "                movements.append(0)\n",
    "                C -= 1\n",
    "                \n",
    "            N -= 1\n",
    "            \n",
    "        movements.append(0)\n",
    "    \n",
    "        # list reconstruction\n",
    "        i = 0\n",
    "        j = N_orig-1\n",
    "        step = 1\n",
    "        for k, m in enumerate(movements):\n",
    "            if m == 1:\n",
    "                i, j = j, i\n",
    "                step *= -1\n",
    "                \n",
    "            l[i] = k+1\n",
    "            i += step\n",
    "        \n",
    "        print('Case #{}: {}'.format(case, ' '.join(map(str,l))))  "
   ]
  }
 ],
 "metadata": {
  "kernelspec": {
   "display_name": "Python 3",
   "language": "python",
   "name": "python3"
  },
  "language_info": {
   "codemirror_mode": {
    "name": "ipython",
    "version": 3
   },
   "file_extension": ".py",
   "mimetype": "text/x-python",
   "name": "python",
   "nbconvert_exporter": "python",
   "pygments_lexer": "ipython3",
   "version": "3.7.4"
  }
 },
 "nbformat": 4,
 "nbformat_minor": 4
}
