{
 "cells": [
  {
   "cell_type": "code",
   "execution_count": 1,
   "metadata": {},
   "outputs": [],
   "source": [
    "import numpy as np\n",
    "import pandas as pd"
   ]
  },
  {
   "cell_type": "code",
   "execution_count": 8,
   "metadata": {},
   "outputs": [
    {
     "name": "stdout",
     "output_type": "stream",
     "text": [
      "220\n"
     ]
    }
   ],
   "source": [
    "def knapsack_dp(C, wt, val, n): \n",
    "    K = [[0 for x in range(C + 1)] for x in range(n + 1)] \n",
    "  \n",
    "    # Build table K[][] in bottom up manner \n",
    "    for i in range(n + 1): \n",
    "        for w in range(C + 1): \n",
    "            if i == 0 or w == 0: \n",
    "                K[i][w] = 0\n",
    "            elif wt[i-1] <= w: \n",
    "                K[i][w] = max(val[i-1] + K[i-1][w-wt[i-1]],  K[i-1][w]) \n",
    "            else: \n",
    "                K[i][w] = K[i-1][w] \n",
    "  \n",
    "    return K[n][C] \n",
    "  \n",
    "# Driver program to test above function \n",
    "val = [60, 100, 120]  # values\n",
    "wt = [10, 20, 30] # weights\n",
    "C = 50 # Capacity\n",
    "n = len(val) \n",
    "print(knapsack_dp(C, wt, val, n)) "
   ]
  },
  {
   "cell_type": "code",
   "execution_count": 9,
   "metadata": {},
   "outputs": [
    {
     "name": "stdout",
     "output_type": "stream",
     "text": [
      "Following is Depth First Traversal\n",
      "0 1 2 3 4 "
     ]
    }
   ],
   "source": [
    "class Graph: \n",
    "    def __init__(self, V):\n",
    "        self.V = V \n",
    "        self.adj = [[] for i in range(V)]\n",
    "     \n",
    "    def addEdge(self, v, w):\n",
    "        self.adj[v].append(w) # Add w to v’s list.\n",
    "     \n",
    "    # prints all not yet visited vertices \n",
    "    # reachable from s \n",
    "    def DFSUtil(self, s, visited):\n",
    "         \n",
    "        # Create a stack for DFS \n",
    "        stack = []\n",
    "     \n",
    "        # Push the current source node. \n",
    "        stack.append(s) \n",
    "     \n",
    "        while (len(stack) != 0):\n",
    "             \n",
    "            # Pop a vertex from stack and print it \n",
    "            s = stack.pop()\n",
    "     \n",
    "            # Stack may contain same vertex twice. \n",
    "            # So we need to prthe popped item only \n",
    "            # if it is not visited. \n",
    "            if (not visited[s]):\n",
    "                print(s, end = \" \") \n",
    "                visited[s] = True\n",
    "     \n",
    "            # Get all adjacent vertices of the \n",
    "            # popped vertex s. If a adjacent has not  \n",
    "            # been visited, then push it to the stack.\n",
    "            i = 0\n",
    "            while i < len(self.adj[s]):\n",
    "                if (not visited[self.adj[s][i]]): \n",
    "                    stack.append(self.adj[s][i])\n",
    "                i += 1\n",
    "     \n",
    "    # prints all vertices in DFS manner \n",
    "    def DFS(self):\n",
    "         \n",
    "        # Mark all the vertices as not visited \n",
    "        visited = [False] * self.V\n",
    "        for i in range(self.V):\n",
    "            if (not visited[i]):\n",
    "                self.DFSUtil(i, visited)\n",
    "                \n",
    "g = Graph(5) # Total 5 vertices in graph \n",
    "g.addEdge(1, 0) \n",
    "g.addEdge(2, 1) \n",
    "g.addEdge(3, 4) \n",
    "g.addEdge(4, 0) \n",
    "\n",
    "print(\"Following is Depth First Traversal\") \n",
    "g.DFS()"
   ]
  },
  {
   "cell_type": "code",
   "execution_count": 101,
   "metadata": {},
   "outputs": [
    {
     "name": "stdout",
     "output_type": "stream",
     "text": [
      "procesando fichero  a.txt\n",
      "procesando fichero  b.txt\n",
      "procesando fichero  c.txt\n",
      "procesando fichero  d.txt\n",
      "procesando fichero  e.txt\n",
      "procesando fichero  f.txt\n"
     ]
    }
   ],
   "source": [
    "for filename in ['a.txt', 'b.txt', 'c.txt', 'd.txt', 'e.txt', 'f.txt']:\n",
    "    print(\"procesando fichero \", filename)\n",
    "    with open(filename, 'r') as f:\n",
    "        duration, intersections, streets, cars, fixed_score = [int(x) for x in next(f).split()] # read first line\n",
    "\n",
    "        matrix = [[] for i in range(intersections)]\n",
    "        street_dict = {}\n",
    "\n",
    "        for i in range(streets):\n",
    "            begin, end, name, length = [x for x in next(f).split()]\n",
    "            begin = int(begin)\n",
    "            end = int(end)\n",
    "            length = int(length)\n",
    "\n",
    "            matrix[end].append([begin, length, name])\n",
    "            street_dict[name] = [begin, end, length, 0, 0, 0]\n",
    "\n",
    "        car_paths = []\n",
    "\n",
    "        for j in range(cars):\n",
    "            line = [x for x in next(f).split()]\n",
    "            n_streets = line[0]\n",
    "            car_paths.append(line[1:])\n",
    "            \n",
    "            \n",
    "    with open('out_' + filename, 'w') as f:\n",
    "        f.write(str(intersections))\n",
    "        f.write(\"\\n\")\n",
    "\n",
    "        for intersection, connections in enumerate(matrix):\n",
    "            f.write(str(intersection))\n",
    "            f.write(\"\\n\")\n",
    "\n",
    "            total_length = 0\n",
    "            total_score = 0\n",
    "            n_connections = 0\n",
    "            out = []\n",
    "            for connection in connections:\n",
    "                total_length += connection[1] if street_dict[connection[2]][3] > 0 else 0\n",
    "                total_score += street_dict[connection[2]][5]\n",
    "\n",
    "            for connection in connections:\n",
    "                duration = int(total_length * street_dict[connection[2]][5] / total_score) if total_score > 0 else 1\n",
    "\n",
    "                if duration > 0:\n",
    "                    n_connections += 1\n",
    "                    out.append([connection[2], duration])\n",
    "\n",
    "            out.sort(key=lambda x:x[1])\n",
    "\n",
    "            f.write(str(n_connections))\n",
    "            f.write(\"\\n\")\n",
    "\n",
    "            for line in out:\n",
    "                f.write(line[0] + \" \" + str(line[1]) + \"\\n\")"
   ]
  },
  {
   "cell_type": "code",
   "execution_count": 96,
   "metadata": {},
   "outputs": [
    {
     "name": "stdout",
     "output_type": "stream",
     "text": [
      "6 4 5 2 1000\n",
      "[[], [], [], []]\n",
      "2 0 rue-de-londres 1\n",
      "0 1 rue-d-amsterdam 1\n",
      "3 1 rue-d-athenes 1\n",
      "2 3 rue-de-rome 2\n",
      "1 2 rue-de-moscou 3\n",
      "\n",
      "matriz\n",
      "[[2, 1, 'rue-de-londres']]\n",
      "[[0, 1, 'rue-d-amsterdam'], [3, 1, 'rue-d-athenes']]\n",
      "[[1, 3, 'rue-de-moscou']]\n",
      "[[2, 2, 'rue-de-rome']]\n",
      "\n",
      "street dict\n",
      "{'rue-de-londres': [2, 0, 1, 0, 0, 0], 'rue-d-amsterdam': [0, 1, 1, 0, 0, 0], 'rue-d-athenes': [3, 1, 1, 0, 0, 0], 'rue-de-rome': [2, 3, 2, 0, 0, 0], 'rue-de-moscou': [1, 2, 3, 0, 0, 0]}\n",
      "\n",
      "car paths\n",
      "['rue-de-londres', 'rue-d-amsterdam', 'rue-de-moscou', 'rue-de-rome']\n",
      "['rue-d-athenes', 'rue-de-moscou', 'rue-de-londres']\n"
     ]
    }
   ],
   "source": [
    "with open(\"a.txt\") as f:\n",
    "    duration, intersections, streets, cars, fixed_score = [int(x) for x in next(f).split()] # read first line\n",
    "    \n",
    "    print(duration, intersections, streets, cars, fixed_score)\n",
    "    \n",
    "    matrix = [[] for i in range(intersections)]\n",
    "    street_dict = {}\n",
    "    print(matrix)\n",
    "    \n",
    "    for i in range(streets):\n",
    "        begin, end, name, length = [x for x in next(f).split()]\n",
    "        begin = int(begin)\n",
    "        end = int(end)\n",
    "        length = int(length)\n",
    "        \n",
    "        print(begin, end, name, length)\n",
    "        \n",
    "        matrix[end].append([begin, length, name])\n",
    "        street_dict[name] = [begin, end, length, 0, 0, 0]\n",
    "        # matrix[begin] = [end, length, name];\n",
    "        \n",
    "        \n",
    "    print(\"\\nmatriz\")\n",
    "    for i in range(len(matrix)):\n",
    "        print(matrix[i])\n",
    "        \n",
    "    print(\"\\nstreet dict\")\n",
    "    print(street_dict)\n",
    "    \n",
    "    \n",
    "    car_paths = []\n",
    "    \n",
    "    for j in range(cars):\n",
    "        line = [x for x in next(f).split()]\n",
    "        n_streets = line[0]\n",
    "        car_paths.append(line[1:])\n",
    "        \n",
    "    print(\"\\ncar paths\")\n",
    "    for i in range(len(car_paths)):\n",
    "        print(car_paths[i])\n",
    "        \n",
    "        \n",
    "    for path in car_paths:\n",
    "        path_score = 0\n",
    "        for street in path:\n",
    "            path_score += street_dict[street][2]\n",
    "\n",
    "        for street in path:\n",
    "            street_dict[street][4] += path_score\n",
    "            street_dict[street][3] += 1\n",
    "\n",
    "    for street in street_dict:\n",
    "        street_dict[street][5] = street_dict[street][4]/street_dict[street][3] if street_dict[street][3]>0 else 0"
   ]
  },
  {
   "cell_type": "markdown",
   "metadata": {},
   "source": [
    "# Street scores"
   ]
  },
  {
   "cell_type": "code",
   "execution_count": 97,
   "metadata": {},
   "outputs": [
    {
     "name": "stdout",
     "output_type": "stream",
     "text": [
      "rue-de-londres\n",
      "[2, 0, 1, 2, 12, 6.0]\n",
      "rue-d-amsterdam\n",
      "[0, 1, 1, 1, 7, 7.0]\n",
      "rue-d-athenes\n",
      "[3, 1, 1, 1, 5, 5.0]\n",
      "rue-de-rome\n",
      "[2, 3, 2, 1, 7, 7.0]\n",
      "rue-de-moscou\n",
      "[1, 2, 3, 2, 12, 6.0]\n"
     ]
    }
   ],
   "source": [
    "for path in car_paths:\n",
    "    path_score = 0\n",
    "    for street in path:\n",
    "        path_score += street_dict[street][2]\n",
    "        \n",
    "    for street in path:\n",
    "        street_dict[street][4] += path_score\n",
    "        street_dict[street][3] += 1\n",
    "        \n",
    "for street in street_dict:\n",
    "    print(street)\n",
    "    street_dict[street][5] = street_dict[street][4]/street_dict[street][3] if street_dict[street][3]>0 else 0\n",
    "    print(street_dict[street])"
   ]
  },
  {
   "cell_type": "markdown",
   "metadata": {},
   "source": [
    "# Schedules"
   ]
  },
  {
   "cell_type": "code",
   "execution_count": 99,
   "metadata": {},
   "outputs": [
    {
     "name": "stdout",
     "output_type": "stream",
     "text": [
      "rue-de-londres 1 6.0 6.0 1\n",
      "rue-d-amsterdam 2 12.0 7.0 1\n",
      "rue-d-athenes 2 12.0 5.0 0\n",
      "rue-de-moscou 3 6.0 6.0 3\n",
      "rue-de-rome 2 7.0 7.0 2\n"
     ]
    }
   ],
   "source": [
    "with open('output_a.txt', 'w') as f:\n",
    "    f.write(str(intersections))\n",
    "    f.write(\"\\n\")\n",
    "    \n",
    "    for intersection, connections in enumerate(matrix):\n",
    "#         print(intersection, connections)\n",
    "        f.write(str(intersection))\n",
    "        f.write(\"\\n\")\n",
    "        \n",
    "\n",
    "        total_length = 0\n",
    "        total_score = 0\n",
    "        n_connections = 0\n",
    "        out = []\n",
    "        for connection in connections:\n",
    "            total_length += connection[1] if street_dict[connection[2]][3] > 0 else 0\n",
    "            total_score += street_dict[connection[2]][5]\n",
    "\n",
    "        for connection in connections:\n",
    "            duration = int(total_length * street_dict[connection[2]][5] / total_score)\n",
    "            \n",
    "            print(connection[2], total_length, total_score, street_dict[connection[2]][5], duration)\n",
    "            \n",
    "            if duration > 0:\n",
    "                n_connections += 1\n",
    "                out.append([connection[2], duration])\n",
    "                \n",
    "        out.sort(key=lambda x:x[1])\n",
    "            \n",
    "        f.write(str(n_connections))\n",
    "        f.write(\"\\n\")\n",
    "        \n",
    "        for line in out:\n",
    "            f.write(line[0] + \" \" + str(line[1]) + \"\\n\")\n",
    "\n",
    "\n",
    "\n",
    "\n",
    "#         print(connection[0])\n",
    "    "
   ]
  },
  {
   "cell_type": "code",
   "execution_count": 82,
   "metadata": {},
   "outputs": [
    {
     "name": "stdout",
     "output_type": "stream",
     "text": [
      "[[1, 2], [1, 3], [1, 1]]\n",
      "[[1, 3], [1, 2], [1, 1]]\n"
     ]
    }
   ],
   "source": [
    "a = [[1,2],[1,3],[1,1]]\n",
    "print(a)\n",
    "a.sort(key=lambda x:x[1], reverse=True)\n",
    "print(a)"
   ]
  },
  {
   "cell_type": "code",
   "execution_count": null,
   "metadata": {},
   "outputs": [],
   "source": []
  }
 ],
 "metadata": {
  "kernelspec": {
   "display_name": "Python 3",
   "language": "python",
   "name": "python3"
  },
  "language_info": {
   "codemirror_mode": {
    "name": "ipython",
    "version": 3
   },
   "file_extension": ".py",
   "mimetype": "text/x-python",
   "name": "python",
   "nbconvert_exporter": "python",
   "pygments_lexer": "ipython3",
   "version": "3.7.7"
  }
 },
 "nbformat": 4,
 "nbformat_minor": 4
}
